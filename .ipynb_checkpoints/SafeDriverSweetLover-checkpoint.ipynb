{
 "cells": [
  {
   "cell_type": "markdown",
   "metadata": {},
   "source": [
    "## Basta Safe Driver, Sweet Lover"
   ]
  },
  {
   "cell_type": "markdown",
   "metadata": {},
   "source": [
    "a.k.a this is how DataMom.tech spends her free time. =D "
   ]
  },
  {
   "cell_type": "markdown",
   "metadata": {},
   "source": [
    "## Exploring the Data"
   ]
  },
  {
   "cell_type": "code",
   "execution_count": null,
   "metadata": {},
   "outputs": [],
   "source": []
  },
  {
   "cell_type": "markdown",
   "metadata": {},
   "source": [
    "## Process"
   ]
  },
  {
   "cell_type": "markdown",
   "metadata": {},
   "source": [
    "1. Tie records by booking ID to map out start and stop journey. (RDS)\n",
    "2. Prioritize longer observations. \n",
    "3. Coordinate Calibration and Other Data Pre-processing \n",
    "4. Give weight to accuracy inferred.\n",
    "5. Full feature selection\n",
    "6. Data Model and Training \n",
    "7. Anomaly Detection "
   ]
  },
  {
   "cell_type": "markdown",
   "metadata": {},
   "source": [
    "## Useful Lits to Keep Me Woke AF"
   ]
  },
  {
   "cell_type": "markdown",
   "metadata": {},
   "source": [
    "### Automotive Telematics - Road Safety vs IT Security? by Ralf Herrtwich"
   ]
  },
  {
   "cell_type": "markdown",
   "metadata": {},
   "source": [
    "* \"A more recent development is to see a role for telematics not just in the aftermath of a crash, but in the stages before it. Vehicles getting involved in or exposed to hazardous situations (e.g., detecting some black ice on the road) may communicate the potential danger to approaching vehicles upstream and, thereby, prepare drivers to be alert.\""
   ]
  },
  {
   "cell_type": "markdown",
   "metadata": {},
   "source": [
    "### A Study on Road Accidents in Abu Dhabi -  Implementing a Vehicle Telematics System to Reduce Cost, Risk and Improve Safety by Omar Kassem Kahlil "
   ]
  },
  {
   "cell_type": "markdown",
   "metadata": {},
   "source": [
    "* Attention to sudden brakes in between start and stop points logged on driver journey\n",
    "* Some mention on regulatory policies aligning with data on ground using the recommended enterprise system. In a corporate setting, that means regulatory policies for fleet drivers. "
   ]
  },
  {
   "cell_type": "markdown",
   "metadata": {},
   "source": [
    "### Predictive Modeling Using Telematics by Robert Bear, Joseph Marker, Kailan Shang and Hai You"
   ]
  },
  {
   "cell_type": "markdown",
   "metadata": {},
   "source": [
    "* X Y location mapping telematics -- may be useful to this case if external data were merged with existing data"
   ]
  },
  {
   "cell_type": "markdown",
   "metadata": {},
   "source": [
    "### SafeDrive: Online Driving Anomaly Detection from Large-Scale Vehicle Data by Zhang et al"
   ]
  },
  {
   "cell_type": "markdown",
   "metadata": {},
   "source": [
    "* Rule-based techniques to extract abnormal driving behavior\n",
    "* Driving anomalies:  aggressive acceleration, sudden breaking, fast turn, overspeed, rapid swerving, and even mismatching of RPM with speed.\n",
    "* Offline Model Creation and Online Live Anomaly Detection, really solid comparison of rule-based techniques in the related lit section\n",
    "* Onboard Diagnostic Data included (OBD)\n",
    "* Data used was speed, RPM, swerving expressed in terms of degrees, gear positions\n",
    "* Recent research uses Hidden Markov Model (HMM) and SVM to detect driving anomalies"
   ]
  },
  {
   "cell_type": "markdown",
   "metadata": {},
   "source": [
    "### Semiautonomous Vehicle Risk Analysis: A Telematics-Based Anomaly Detection Approach by Cian Ryan, Finbarr Murphy,∗ and Martin Mullins"
   ]
  },
  {
   "cell_type": "markdown",
   "metadata": {},
   "source": [
    "* (1) acceleration Z axis (longitudinal), (2) acceleration Y axis (lateral),\n",
    "(3) acceleration X axis (vertical) and velocity\n",
    "* MVG-based anomaly detection approach was adopted "
   ]
  },
  {
   "cell_type": "markdown",
   "metadata": {},
   "source": [
    "### Feature Selection for Anomaly Detection in Vehicular Ad Hoc Networks by Van Huynh Le, Jerry den Hartog and Nicola Zannone"
   ]
  },
  {
   "cell_type": "markdown",
   "metadata": {},
   "source": [
    "* Rear end\n",
    "* Opposite direction\n",
    "* Lane change\n",
    "* Scenarios:\n",
    "** Rear-end Pre-crash Scenario. The leading vehicle (V2) can make the vehicle behind (V1) brake by creating the false impression of a rear-end pre-crash scenario (Figure 2(a)). To this end, V2 can report loca- tion closer to V1, lower speed, negative longitudinal acceleration, or their combination.\n",
    "** Lane Change Scenario. A vehicle (V2) can make another vehicle (V1) abort changing lane by causing the misconception that V2 is in a colliding course with V1 (Figure 2(b)). To this end, V2 can report false location, higher speed, and higher acceleration. Alter- natively, V1 could make V2 brake by reporting that it is changing lane while actually going straight forward.\n",
    "** Opposite Direction Scenario. A vehicle (V2) can persuade another vehicle (V1) to take evasive maneuver (e.g., turning right) by reporting false loca- tion (Figure 2(c))."
   ]
  },
  {
   "cell_type": "markdown",
   "metadata": {},
   "source": [
    "### Combining speed and acceleration to detect reckless driving in the informal public transport industry by AS Zeeman"
   ]
  },
  {
   "cell_type": "markdown",
   "metadata": {},
   "source": [
    "* Driving patterns classification using Hidden Markov Mod- els (HMM) is proposed by [10] as a framework for machine learning for modelling and recognizing driver behaviour.\n",
    "* Fuzzy logic used traditionally is \"erratic\" \n",
    "* Filter raw acceleration data using EMA -- chosen as low pass filter \n",
    "* As expected, taxis travel at higher speeds on highways than in urban areas. Taxis travelled at over 140km/h, which is 40km/h over the legal speed limit.\n",
    "* Variations in longitudinal acceleration is more frequent in urban areas, since taxis regularly stop to pick up passengers. Long-distance taxis are loaded early on a long distance journey and they don’t stop often.\n",
    "* Lateral acceleration variations are more frequent in urban areas, since the radius of curves on highways is larger than in urban areas. Taxis also frequently pull over to the side of the road to pick up passengers in urban areas.\n",
    "* At a high speed, the same g-force feels more dangerous than at a lower speed. This is confirmed from road design principles where maximum lateral acceleration thresholds are reduced with an increase in speed.\n",
    "* Highway events include: circular curve following, swerving and sharp braking.\n",
    "* Useful equations here <3 "
   ]
  },
  {
   "cell_type": "markdown",
   "metadata": {},
   "source": [
    "### DrivingSense: Dangerous Driving Behavior Identification Based on Smartphone Autocalibration by Mai et al."
   ]
  },
  {
   "cell_type": "markdown",
   "metadata": {},
   "source": [
    "* Accelerometer, Gyroscope, GPS, Mic\n",
    "* Coordinate reorientation, sensor error determination, data correction\n",
    "* Speeding, illegal driving direction change, abnormal speed control\n",
    "* Coordinate system correction was done to the raw data from smartphone\n",
    "* Speeding -- Y acceleration and GPS readings\n",
    "* Irregular Driving Direction Change -- Z gyroscope reading for mapping out spin movement \n",
    "* Abnormal Speed Control -- y-accel max and y-accel min matched against a threshold for a driver\n",
    "* Microphone is effective in detecting honking of horns and matched with sudden movements in the vehicle\n",
    "\n"
   ]
  },
  {
   "cell_type": "markdown",
   "metadata": {},
   "source": [
    "### Exploiting the Use of Recurrent Neural Networks for Driver Behavior Profiling by Carvalho et al"
   ]
  },
  {
   "cell_type": "markdown",
   "metadata": {},
   "source": [
    "* Recurrent Neural Networks -- difficult to train\n",
    "* Sensor data  translated to earth coordinate system in this case\n",
    "* Braking, Accel, Left Turn, Right Turn, Lane Change, Non-aggressive\n",
    "* Keras and 3 topology models"
   ]
  },
  {
   "cell_type": "markdown",
   "metadata": {},
   "source": [
    "### Mobile Phone Based Drunk Driving Detection by Dai et al"
   ]
  },
  {
   "cell_type": "markdown",
   "metadata": {},
   "source": [
    "* Weaving, drifting, swerving, turning with a wide radius\n"
   ]
  },
  {
   "cell_type": "markdown",
   "metadata": {},
   "source": []
  }
 ],
 "metadata": {
  "kernelspec": {
   "display_name": "Python 3",
   "language": "python",
   "name": "python3"
  },
  "language_info": {
   "codemirror_mode": {
    "name": "ipython",
    "version": 3
   },
   "file_extension": ".py",
   "mimetype": "text/x-python",
   "name": "python",
   "nbconvert_exporter": "python",
   "pygments_lexer": "ipython3",
   "version": "3.7.0"
  }
 },
 "nbformat": 4,
 "nbformat_minor": 2
}

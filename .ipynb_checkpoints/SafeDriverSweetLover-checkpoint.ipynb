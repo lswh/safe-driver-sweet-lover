{
 "cells": [
  {
   "cell_type": "markdown",
   "metadata": {},
   "source": [
    "## Basta Safe Driver, Sweet Lover"
   ]
  },
  {
   "cell_type": "markdown",
   "metadata": {},
   "source": [
    "a.k.a this is how DataMom.tech spends her free time. =D "
   ]
  },
  {
   "cell_type": "markdown",
   "metadata": {},
   "source": [
    "## Exploring the Data"
   ]
  },
  {
   "cell_type": "code",
   "execution_count": null,
   "metadata": {},
   "outputs": [],
   "source": []
  },
  {
   "cell_type": "markdown",
   "metadata": {},
   "source": [
    "## Process"
   ]
  },
  {
   "cell_type": "markdown",
   "metadata": {},
   "source": [
    "1. Tie records by booking ID to map out start and stop journey. (RDS)\n",
    "2. Prioritize longer observations. \n",
    "3. Give weight to accuracy inferred.\n",
    "4. Full feature selection\n",
    "5. Data Model and Training \n",
    "6. Anomaly Detection?"
   ]
  },
  {
   "cell_type": "markdown",
   "metadata": {},
   "source": [
    "## Useful Lits to Keep Me Woke AF"
   ]
  },
  {
   "cell_type": "markdown",
   "metadata": {},
   "source": [
    "### Automotive Telematics - Road Safety vs IT Security? by Ralf Herrtwich"
   ]
  },
  {
   "cell_type": "markdown",
   "metadata": {},
   "source": [
    "* \"A more recent development is to see a role for telematics not just in the aftermath of a crash, but in the stages before it. Vehicles getting involved in or exposed to hazardous situations (e.g., detecting some black ice on the road) may communicate the potential danger to approaching vehicles upstream and, thereby, prepare drivers to be alert.\""
   ]
  },
  {
   "cell_type": "markdown",
   "metadata": {},
   "source": [
    "### A Study on Road Accidents in Abu Dhabi -  Implementing a Vehicle Telematics System to Reduce Cost, Risk and Improve Safety by Omar Kassem Kahlil "
   ]
  },
  {
   "cell_type": "markdown",
   "metadata": {},
   "source": [
    "* Attention to sudden brakes in between start and stop points logged on driver journey\n",
    "* Some mention on regulatory policies aligning with data on ground using the recommended enterprise system. In a corporate setting, that means regulatory policies for fleet drivers. "
   ]
  },
  {
   "cell_type": "markdown",
   "metadata": {},
   "source": [
    "### Predictive Modeling Using Telematics by Robert Bear, Joseph Marker, Kailan Shang and Hai You"
   ]
  },
  {
   "cell_type": "markdown",
   "metadata": {},
   "source": [
    "* X Y location mapping telematics -- may be useful to this case if external data were merged with existing data"
   ]
  },
  {
   "cell_type": "markdown",
   "metadata": {},
   "source": [
    "### SafeDrive: Online Driving Anomaly Detection from Large-Scale Vehicle Data by Zhang et al"
   ]
  },
  {
   "cell_type": "markdown",
   "metadata": {},
   "source": [
    "* Rule-based techniques to extract abnormal driving behavior\n",
    "* Driving anomalies:  aggressive acceleration, sudden breaking, fast turn, overspeed, rapid swerving, and even mismatching of RPM with speed.\n",
    "* Offline Model Creation and Online Live Anomaly Detection, really solid comparison of rule-based techniques in the related lit section\n",
    "* Onboard Diagnostic Data included (OBD)\n",
    "* Data used was speed, RPM, swerving expressed in terms of degrees, gear positions\n",
    "* Recent research uses Hidden Markov Model (HMM) and SVM to detect driving anomalies"
   ]
  },
  {
   "cell_type": "markdown",
   "metadata": {},
   "source": [
    "### Semiautonomous Vehicle Risk Analysis: A Telematics-Based Anomaly Detection Approach by Cian Ryan, Finbarr Murphy,∗ and Martin Mullins"
   ]
  },
  {
   "cell_type": "markdown",
   "metadata": {},
   "source": [
    "* (1) acceleration Z axis (longitudinal), (2) acceleration Y axis (lateral),\n",
    "(3) acceleration X axis (vertical) and velocity\n",
    "* MVG-based anomaly detection approach was adopted "
   ]
  },
  {
   "cell_type": "markdown",
   "metadata": {},
   "source": []
  }
 ],
 "metadata": {
  "kernelspec": {
   "display_name": "Python 3",
   "language": "python",
   "name": "python3"
  },
  "language_info": {
   "codemirror_mode": {
    "name": "ipython",
    "version": 3
   },
   "file_extension": ".py",
   "mimetype": "text/x-python",
   "name": "python",
   "nbconvert_exporter": "python",
   "pygments_lexer": "ipython3",
   "version": "3.7.0"
  }
 },
 "nbformat": 4,
 "nbformat_minor": 2
}
